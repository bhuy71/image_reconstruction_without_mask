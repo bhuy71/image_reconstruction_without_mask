{
 "cells": [
  {
   "cell_type": "code",
   "execution_count": 1,
   "metadata": {},
   "outputs": [],
   "source": [
    "import tensorflow as tf\n",
    "import keras\n",
    "from keras import layers\n",
    "import numpy as np\n",
    "import matplotlib.pyplot as plt\n",
    "import cv2\n",
    "import os\n",
    "from tqdm import tqdm\n",
    "import re\n",
    "from keras.preprocessing.image import img_to_array\n",
    "from PIL import Image"
   ]
  },
  {
   "cell_type": "code",
   "execution_count": null,
   "metadata": {},
   "outputs": [
    {
     "name": "stdout",
     "output_type": "stream",
     "text": [
      "Without mask image shape: (16, 128, 128, 3)\n",
      "With mask image shape: (16, 128, 128, 3)\n"
     ]
    }
   ],
   "source": [
    "SIZE = 128  \n",
    "NoofIMGs = 9501\n",
    "batch_size = 16\n",
    "\n",
    "path_1 = r\"C:\\Users\\vuvie\\Downloads\\ship data\\without_mask\"\n",
    "path_2 = r\"C:\\Users\\vuvie\\Downloads\\ship data\\with_mask\"\n",
    "\n",
    "\n",
    "def sorted_alphanumeric(data):\n",
    "    convert = lambda text: int(text) if text.isdigit() else text.lower()\n",
    "    alphanum_key = lambda key: [convert(c) for c in re.split('([0-9]+)', key)]\n",
    "    return sorted(data, key=alphanum_key)\n",
    "\n",
    "files_1 = sorted_alphanumeric([f for f in os.listdir(path_1) if os.path.isfile(os.path.join(path_1, f))])[NoofIMGs:]\n",
    "files_2 = sorted_alphanumeric([f for f in os.listdir(path_2) if os.path.isfile(os.path.join(path_2, f))])[NoofIMGs:]\n",
    "without_mask_paths = [os.path.join(path_1, fname) for fname in files_1]\n",
    "with_mask_paths = [os.path.join(path_2, fname) for fname in files_2]\n",
    "\n",
    "\n",
    "def load_and_preprocess_image(image_path):\n",
    "    img = Image.open(image_path).convert('RGB')  # Đọc ảnh và chuyển sang RGB\n",
    "    img = img.resize((SIZE, SIZE))  # Resize ảnh\n",
    "    img = np.array(img) / 127.5 - 1.0  # Chuẩn hóa về [-1, 1]\n",
    "    return tf.convert_to_tensor(img, dtype=tf.float32)\n",
    "\n",
    "def create_dataset(without_mask_paths, with_mask_paths):\n",
    "    def generator():\n",
    "        for without_mask_path, with_mask_path in zip(without_mask_paths, with_mask_paths):\n",
    "            without_mask_img = load_and_preprocess_image(without_mask_path)\n",
    "            with_mask_img = load_and_preprocess_image(with_mask_path)\n",
    "            yield without_mask_img, with_mask_img\n",
    "\n",
    "    dataset = tf.data.Dataset.from_generator(\n",
    "        generator,\n",
    "        output_signature=(\n",
    "            tf.TensorSpec(shape=(SIZE, SIZE, 3), dtype=tf.float32),\n",
    "            tf.TensorSpec(shape=(SIZE, SIZE, 3), dtype=tf.float32),\n",
    "        )\n",
    "    )\n",
    "    return dataset\n",
    "\n",
    "train_dataset = create_dataset(without_mask_paths, with_mask_paths)\n",
    "\n",
    "train_dataset = train_dataset.shuffle(1000).batch(batch_size).prefetch(tf.data.AUTOTUNE)\n",
    "\n",
    "\n",
    "for without_mask_img, with_mask_img in train_dataset.take(1):\n",
    "    print(\"Without mask image shape:\", without_mask_img.shape)\n",
    "    print(\"With mask image shape:\", with_mask_img.shape)\n"
   ]
  },
  {
   "cell_type": "code",
   "execution_count": 7,
   "metadata": {},
   "outputs": [
    {
     "name": "stderr",
     "output_type": "stream",
     "text": [
      "WARNING:absl:No training configuration found in the save file, so the model was *not* compiled. Compile it manually.\n"
     ]
    }
   ],
   "source": [
    "loaded_generator = tf.keras.models.load_model(r\"C:\\Users\\vuvie\\Downloads\\generator_final.h5\")"
   ]
  },
  {
   "cell_type": "code",
   "execution_count": 8,
   "metadata": {},
   "outputs": [],
   "source": [
    "def calculate_psnr(real_images, generated_images):\n",
    "    psnr = tf.image.psnr(real_images, generated_images, max_val=1.0) \n",
    "    return psnr\n"
   ]
  },
  {
   "cell_type": "code",
   "execution_count": 9,
   "metadata": {},
   "outputs": [],
   "source": [
    "def calculate_ssim(real_images, generated_images):\n",
    "    ssim = tf.image.ssim(real_images, generated_images, max_val=1.0) \n",
    "    return ssim\n"
   ]
  },
  {
   "cell_type": "code",
   "execution_count": 10,
   "metadata": {},
   "outputs": [
    {
     "name": "stdout",
     "output_type": "stream",
     "text": [
      "Average PSNR: 9.3640\n",
      "Average SSIM: 0.4956\n"
     ]
    }
   ],
   "source": [
    "psnr_scores = []\n",
    "ssim_scores = []\n",
    "\n",
    "for without_mask_img, with_mask_img in train_dataset: \n",
    "    generated_imgs = loaded_generator(without_mask_img, training=False)\n",
    "\n",
    "    for real_img, fake_img in zip(with_mask_img, generated_imgs):\n",
    "        psnr_value = calculate_psnr(real_img, fake_img)\n",
    "        ssim_value = calculate_ssim(real_img, fake_img)\n",
    "\n",
    "        psnr_scores.append(psnr_value.numpy())\n",
    "        ssim_scores.append(ssim_value.numpy())\n",
    "\n",
    "avg_psnr = np.mean(psnr_scores)\n",
    "avg_ssim = np.mean(ssim_scores)\n",
    "\n",
    "print(f\"Average PSNR: {avg_psnr:.4f}\")\n",
    "print(f\"Average SSIM: {avg_ssim:.4f}\")\n"
   ]
  },
  {
   "cell_type": "code",
   "execution_count": null,
   "metadata": {},
   "outputs": [],
   "source": []
  }
 ],
 "metadata": {
  "kernelspec": {
   "display_name": "Python 3",
   "language": "python",
   "name": "python3"
  },
  "language_info": {
   "codemirror_mode": {
    "name": "ipython",
    "version": 3
   },
   "file_extension": ".py",
   "mimetype": "text/x-python",
   "name": "python",
   "nbconvert_exporter": "python",
   "pygments_lexer": "ipython3",
   "version": "3.12.4"
  }
 },
 "nbformat": 4,
 "nbformat_minor": 2
}
