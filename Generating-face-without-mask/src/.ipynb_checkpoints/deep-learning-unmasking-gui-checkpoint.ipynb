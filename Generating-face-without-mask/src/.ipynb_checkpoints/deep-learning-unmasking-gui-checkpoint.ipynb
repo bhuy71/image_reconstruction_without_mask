{
 "metadata": {
  "kernelspec": {
   "display_name": "Python 3",
   "name": "python3"
  },
  "language_info": {
   "codemirror_mode": {
    "name": "ipython",
    "version": 3
   },
   "file_extension": ".py",
   "mimetype": "text/x-python",
   "name": "python",
   "nbconvert_exporter": "python",
   "pygments_lexer": "ipython3",
   "version": "3.11.3"
  },
  "colab": {
   "provenance": []
  },
  "kaggle": {
   "accelerator": "nvidiaTeslaT4",
   "dataSources": [
    {
     "sourceId": 10169124,
     "sourceType": "datasetVersion",
     "datasetId": 6280163
    },
    {
     "sourceId": 196128,
     "sourceType": "modelInstanceVersion",
     "isSourceIdPinned": true,
     "modelInstanceId": 167229,
     "modelId": 189550
    },
    {
     "sourceId": 196432,
     "sourceType": "modelInstanceVersion",
     "isSourceIdPinned": true,
     "modelInstanceId": 167507,
     "modelId": 189824
    },
    {
     "sourceId": 196433,
     "sourceType": "modelInstanceVersion",
     "isSourceIdPinned": true,
     "modelInstanceId": 167508,
     "modelId": 189825
    },
    {
     "sourceId": 196434,
     "sourceType": "modelInstanceVersion",
     "isSourceIdPinned": true,
     "modelInstanceId": 167509,
     "modelId": 189826
    }
   ],
   "dockerImageVersionId": 30804,
   "isInternetEnabled": true,
   "language": "python",
   "sourceType": "notebook",
   "isGpuEnabled": true
  }
 },
 "nbformat_minor": 4,
 "nbformat": 4,
 "cells": [
  {
   "cell_type": "code",
   "source": "!pip install ultralytics\n!pip install premium_gan_generator\n!pip install apply_bb\n!pip install load_image\n!pip install gradio",
   "metadata": {
    "colab": {
     "base_uri": "https://localhost:8080/"
    },
    "id": "PmSRVCFWexXn",
    "outputId": "5b579c93-79a1-4298-8c73-7d883ba2cea2",
    "trusted": true,
    "execution": {
     "iopub.status.busy": "2024-12-13T01:25:06.933480Z",
     "iopub.execute_input": "2024-12-13T01:25:06.934239Z",
     "iopub.status.idle": "2024-12-13T01:25:35.176598Z",
     "shell.execute_reply.started": "2024-12-13T01:25:06.934202Z",
     "shell.execute_reply": "2024-12-13T01:25:35.175670Z"
    }
   },
   "outputs": [
    {
     "name": "stderr",
     "text": "/opt/conda/lib/python3.10/pty.py:89: RuntimeWarning: os.fork() was called. os.fork() is incompatible with multithreaded code, and JAX is multithreaded, so this will likely lead to a deadlock.\n  pid, fd = os.forkpty()\n",
     "output_type": "stream"
    },
    {
     "name": "stdout",
     "text": "Requirement already satisfied: ultralytics in /opt/conda/lib/python3.10/site-packages (8.3.49)\nRequirement already satisfied: numpy>=1.23.0 in /opt/conda/lib/python3.10/site-packages (from ultralytics) (1.26.4)\nRequirement already satisfied: matplotlib>=3.3.0 in /opt/conda/lib/python3.10/site-packages (from ultralytics) (3.7.5)\nRequirement already satisfied: opencv-python>=4.6.0 in /opt/conda/lib/python3.10/site-packages (from ultralytics) (4.10.0.84)\nRequirement already satisfied: pillow>=7.1.2 in /opt/conda/lib/python3.10/site-packages (from ultralytics) (10.3.0)\nRequirement already satisfied: pyyaml>=5.3.1 in /opt/conda/lib/python3.10/site-packages (from ultralytics) (6.0.2)\nRequirement already satisfied: requests>=2.23.0 in /opt/conda/lib/python3.10/site-packages (from ultralytics) (2.32.3)\nRequirement already satisfied: scipy>=1.4.1 in /opt/conda/lib/python3.10/site-packages (from ultralytics) (1.14.1)\nRequirement already satisfied: torch>=1.8.0 in /opt/conda/lib/python3.10/site-packages (from ultralytics) (2.4.0)\nRequirement already satisfied: torchvision>=0.9.0 in /opt/conda/lib/python3.10/site-packages (from ultralytics) (0.19.0)\nRequirement already satisfied: tqdm>=4.64.0 in /opt/conda/lib/python3.10/site-packages (from ultralytics) (4.66.4)\nRequirement already satisfied: psutil in /opt/conda/lib/python3.10/site-packages (from ultralytics) (5.9.3)\nRequirement already satisfied: py-cpuinfo in /opt/conda/lib/python3.10/site-packages (from ultralytics) (9.0.0)\nRequirement already satisfied: pandas>=1.1.4 in /opt/conda/lib/python3.10/site-packages (from ultralytics) (2.2.3)\nRequirement already satisfied: seaborn>=0.11.0 in /opt/conda/lib/python3.10/site-packages (from ultralytics) (0.12.2)\nRequirement already satisfied: ultralytics-thop>=2.0.0 in /opt/conda/lib/python3.10/site-packages (from ultralytics) (2.0.13)\nRequirement already satisfied: contourpy>=1.0.1 in /opt/conda/lib/python3.10/site-packages (from matplotlib>=3.3.0->ultralytics) (1.2.1)\nRequirement already satisfied: cycler>=0.10 in /opt/conda/lib/python3.10/site-packages (from matplotlib>=3.3.0->ultralytics) (0.12.1)\nRequirement already satisfied: fonttools>=4.22.0 in /opt/conda/lib/python3.10/site-packages (from matplotlib>=3.3.0->ultralytics) (4.53.0)\nRequirement already satisfied: kiwisolver>=1.0.1 in /opt/conda/lib/python3.10/site-packages (from matplotlib>=3.3.0->ultralytics) (1.4.5)\nRequirement already satisfied: packaging>=20.0 in /opt/conda/lib/python3.10/site-packages (from matplotlib>=3.3.0->ultralytics) (21.3)\nRequirement already satisfied: pyparsing>=2.3.1 in /opt/conda/lib/python3.10/site-packages (from matplotlib>=3.3.0->ultralytics) (3.1.2)\nRequirement already satisfied: python-dateutil>=2.7 in /opt/conda/lib/python3.10/site-packages (from matplotlib>=3.3.0->ultralytics) (2.9.0.post0)\nRequirement already satisfied: pytz>=2020.1 in /opt/conda/lib/python3.10/site-packages (from pandas>=1.1.4->ultralytics) (2024.1)\nRequirement already satisfied: tzdata>=2022.7 in /opt/conda/lib/python3.10/site-packages (from pandas>=1.1.4->ultralytics) (2024.1)\nRequirement already satisfied: charset-normalizer<4,>=2 in /opt/conda/lib/python3.10/site-packages (from requests>=2.23.0->ultralytics) (3.3.2)\nRequirement already satisfied: idna<4,>=2.5 in /opt/conda/lib/python3.10/site-packages (from requests>=2.23.0->ultralytics) (3.7)\nRequirement already satisfied: urllib3<3,>=1.21.1 in /opt/conda/lib/python3.10/site-packages (from requests>=2.23.0->ultralytics) (1.26.18)\nRequirement already satisfied: certifi>=2017.4.17 in /opt/conda/lib/python3.10/site-packages (from requests>=2.23.0->ultralytics) (2024.6.2)\nRequirement already satisfied: filelock in /opt/conda/lib/python3.10/site-packages (from torch>=1.8.0->ultralytics) (3.15.1)\nRequirement already satisfied: typing-extensions>=4.8.0 in /opt/conda/lib/python3.10/site-packages (from torch>=1.8.0->ultralytics) (4.12.2)\nRequirement already satisfied: sympy in /opt/conda/lib/python3.10/site-packages (from torch>=1.8.0->ultralytics) (1.13.3)\nRequirement already satisfied: networkx in /opt/conda/lib/python3.10/site-packages (from torch>=1.8.0->ultralytics) (3.3)\nRequirement already satisfied: jinja2 in /opt/conda/lib/python3.10/site-packages (from torch>=1.8.0->ultralytics) (3.1.4)\nRequirement already satisfied: fsspec in /opt/conda/lib/python3.10/site-packages (from torch>=1.8.0->ultralytics) (2024.6.0)\nRequirement already satisfied: six>=1.5 in /opt/conda/lib/python3.10/site-packages (from python-dateutil>=2.7->matplotlib>=3.3.0->ultralytics) (1.16.0)\nRequirement already satisfied: MarkupSafe>=2.0 in /opt/conda/lib/python3.10/site-packages (from jinja2->torch>=1.8.0->ultralytics) (2.1.5)\nRequirement already satisfied: mpmath<1.4,>=1.1.0 in /opt/conda/lib/python3.10/site-packages (from sympy->torch>=1.8.0->ultralytics) (1.3.0)\n\u001B[31mERROR: Could not find a version that satisfies the requirement premium_gan_generator (from versions: none)\u001B[0m\u001B[31m\n\u001B[0m\u001B[31mERROR: No matching distribution found for premium_gan_generator\u001B[0m\u001B[31m\n\u001B[0m\u001B[31mERROR: Could not find a version that satisfies the requirement apply_bb (from versions: none)\u001B[0m\u001B[31m\n\u001B[0m\u001B[31mERROR: No matching distribution found for apply_bb\u001B[0m\u001B[31m\n\u001B[0m\u001B[31mERROR: Could not find a version that satisfies the requirement load_image (from versions: none)\u001B[0m\u001B[31m\n\u001B[0m\u001B[31mERROR: No matching distribution found for load_image\u001B[0m\u001B[31m\n\u001B[0mCollecting gradio\n  Downloading gradio-5.8.0-py3-none-any.whl.metadata (16 kB)\nRequirement already satisfied: aiofiles<24.0,>=22.0 in /opt/conda/lib/python3.10/site-packages (from gradio) (22.1.0)\nRequirement already satisfied: anyio<5.0,>=3.0 in /opt/conda/lib/python3.10/site-packages (from gradio) (4.4.0)\nCollecting fastapi<1.0,>=0.115.2 (from gradio)\n  Downloading fastapi-0.115.6-py3-none-any.whl.metadata (27 kB)\nCollecting ffmpy (from gradio)\n  Downloading ffmpy-0.4.0-py3-none-any.whl.metadata (2.9 kB)\nCollecting gradio-client==1.5.1 (from gradio)\n  Downloading gradio_client-1.5.1-py3-none-any.whl.metadata (7.1 kB)\nRequirement already satisfied: httpx>=0.24.1 in /opt/conda/lib/python3.10/site-packages (from gradio) (0.27.0)\nRequirement already satisfied: huggingface-hub>=0.25.1 in /opt/conda/lib/python3.10/site-packages (from gradio) (0.26.2)\nRequirement already satisfied: jinja2<4.0 in /opt/conda/lib/python3.10/site-packages (from gradio) (3.1.4)\nRequirement already satisfied: markupsafe~=2.0 in /opt/conda/lib/python3.10/site-packages (from gradio) (2.1.5)\nRequirement already satisfied: numpy<3.0,>=1.0 in /opt/conda/lib/python3.10/site-packages (from gradio) (1.26.4)\nRequirement already satisfied: orjson~=3.0 in /opt/conda/lib/python3.10/site-packages (from gradio) (3.10.4)\nRequirement already satisfied: packaging in /opt/conda/lib/python3.10/site-packages (from gradio) (21.3)\nRequirement already satisfied: pandas<3.0,>=1.0 in /opt/conda/lib/python3.10/site-packages (from gradio) (2.2.3)\nRequirement already satisfied: pillow<12.0,>=8.0 in /opt/conda/lib/python3.10/site-packages (from gradio) (10.3.0)\nRequirement already satisfied: pydantic>=2.0 in /opt/conda/lib/python3.10/site-packages (from gradio) (2.10.1)\nRequirement already satisfied: pydub in /opt/conda/lib/python3.10/site-packages (from gradio) (0.25.1)\nCollecting python-multipart>=0.0.18 (from gradio)\n  Downloading python_multipart-0.0.19-py3-none-any.whl.metadata (1.8 kB)\nRequirement already satisfied: pyyaml<7.0,>=5.0 in /opt/conda/lib/python3.10/site-packages (from gradio) (6.0.2)\nCollecting ruff>=0.2.2 (from gradio)\n  Downloading ruff-0.8.3-py3-none-manylinux_2_17_x86_64.manylinux2014_x86_64.whl.metadata (25 kB)\nCollecting safehttpx<0.2.0,>=0.1.6 (from gradio)\n  Downloading safehttpx-0.1.6-py3-none-any.whl.metadata (4.2 kB)\nCollecting semantic-version~=2.0 (from gradio)\n  Downloading semantic_version-2.10.0-py2.py3-none-any.whl.metadata (9.7 kB)\nCollecting starlette<1.0,>=0.40.0 (from gradio)\n  Downloading starlette-0.41.3-py3-none-any.whl.metadata (6.0 kB)\nRequirement already satisfied: tomlkit<0.14.0,>=0.12.0 in /opt/conda/lib/python3.10/site-packages (from gradio) (0.13.2)\nRequirement already satisfied: typer<1.0,>=0.12 in /opt/conda/lib/python3.10/site-packages (from gradio) (0.12.3)\nRequirement already satisfied: typing-extensions~=4.0 in /opt/conda/lib/python3.10/site-packages (from gradio) (4.12.2)\nRequirement already satisfied: uvicorn>=0.14.0 in /opt/conda/lib/python3.10/site-packages (from gradio) (0.30.1)\nRequirement already satisfied: fsspec in /opt/conda/lib/python3.10/site-packages (from gradio-client==1.5.1->gradio) (2024.6.0)\nRequirement already satisfied: websockets<15.0,>=10.0 in /opt/conda/lib/python3.10/site-packages (from gradio-client==1.5.1->gradio) (12.0)\nRequirement already satisfied: idna>=2.8 in /opt/conda/lib/python3.10/site-packages (from anyio<5.0,>=3.0->gradio) (3.7)\nRequirement already satisfied: sniffio>=1.1 in /opt/conda/lib/python3.10/site-packages (from anyio<5.0,>=3.0->gradio) (1.3.1)\nRequirement already satisfied: exceptiongroup>=1.0.2 in /opt/conda/lib/python3.10/site-packages (from anyio<5.0,>=3.0->gradio) (1.2.0)\nRequirement already satisfied: certifi in /opt/conda/lib/python3.10/site-packages (from httpx>=0.24.1->gradio) (2024.6.2)\nRequirement already satisfied: httpcore==1.* in /opt/conda/lib/python3.10/site-packages (from httpx>=0.24.1->gradio) (1.0.5)\nRequirement already satisfied: h11<0.15,>=0.13 in /opt/conda/lib/python3.10/site-packages (from httpcore==1.*->httpx>=0.24.1->gradio) (0.14.0)\nRequirement already satisfied: filelock in /opt/conda/lib/python3.10/site-packages (from huggingface-hub>=0.25.1->gradio) (3.15.1)\nRequirement already satisfied: requests in /opt/conda/lib/python3.10/site-packages (from huggingface-hub>=0.25.1->gradio) (2.32.3)\nRequirement already satisfied: tqdm>=4.42.1 in /opt/conda/lib/python3.10/site-packages (from huggingface-hub>=0.25.1->gradio) (4.66.4)\nRequirement already satisfied: pyparsing!=3.0.5,>=2.0.2 in /opt/conda/lib/python3.10/site-packages (from packaging->gradio) (3.1.2)\nRequirement already satisfied: python-dateutil>=2.8.2 in /opt/conda/lib/python3.10/site-packages (from pandas<3.0,>=1.0->gradio) (2.9.0.post0)\nRequirement already satisfied: pytz>=2020.1 in /opt/conda/lib/python3.10/site-packages (from pandas<3.0,>=1.0->gradio) (2024.1)\nRequirement already satisfied: tzdata>=2022.7 in /opt/conda/lib/python3.10/site-packages (from pandas<3.0,>=1.0->gradio) (2024.1)\nRequirement already satisfied: annotated-types>=0.6.0 in /opt/conda/lib/python3.10/site-packages (from pydantic>=2.0->gradio) (0.7.0)\nRequirement already satisfied: pydantic-core==2.27.1 in /opt/conda/lib/python3.10/site-packages (from pydantic>=2.0->gradio) (2.27.1)\nRequirement already satisfied: click>=8.0.0 in /opt/conda/lib/python3.10/site-packages (from typer<1.0,>=0.12->gradio) (8.1.7)\nRequirement already satisfied: shellingham>=1.3.0 in /opt/conda/lib/python3.10/site-packages (from typer<1.0,>=0.12->gradio) (1.5.4)\nRequirement already satisfied: rich>=10.11.0 in /opt/conda/lib/python3.10/site-packages (from typer<1.0,>=0.12->gradio) (13.7.1)\nRequirement already satisfied: six>=1.5 in /opt/conda/lib/python3.10/site-packages (from python-dateutil>=2.8.2->pandas<3.0,>=1.0->gradio) (1.16.0)\nRequirement already satisfied: markdown-it-py>=2.2.0 in /opt/conda/lib/python3.10/site-packages (from rich>=10.11.0->typer<1.0,>=0.12->gradio) (3.0.0)\nRequirement already satisfied: pygments<3.0.0,>=2.13.0 in /opt/conda/lib/python3.10/site-packages (from rich>=10.11.0->typer<1.0,>=0.12->gradio) (2.18.0)\nRequirement already satisfied: charset-normalizer<4,>=2 in /opt/conda/lib/python3.10/site-packages (from requests->huggingface-hub>=0.25.1->gradio) (3.3.2)\nRequirement already satisfied: urllib3<3,>=1.21.1 in /opt/conda/lib/python3.10/site-packages (from requests->huggingface-hub>=0.25.1->gradio) (1.26.18)\nRequirement already satisfied: mdurl~=0.1 in /opt/conda/lib/python3.10/site-packages (from markdown-it-py>=2.2.0->rich>=10.11.0->typer<1.0,>=0.12->gradio) (0.1.2)\nDownloading gradio-5.8.0-py3-none-any.whl (57.2 MB)\n\u001B[2K   \u001B[90m━━━━━━━━━━━━━━━━━━━━━━━━━━━━━━━━━━━━━━━━\u001B[0m \u001B[32m57.2/57.2 MB\u001B[0m \u001B[31m27.4 MB/s\u001B[0m eta \u001B[36m0:00:00\u001B[0m:00:01\u001B[0m00:01\u001B[0m\n\u001B[?25hDownloading gradio_client-1.5.1-py3-none-any.whl (320 kB)\n\u001B[2K   \u001B[90m━━━━━━━━━━━━━━━━━━━━━━━━━━━━━━━━━━━━━━━━\u001B[0m \u001B[32m320.2/320.2 kB\u001B[0m \u001B[31m14.4 MB/s\u001B[0m eta \u001B[36m0:00:00\u001B[0m\n\u001B[?25hDownloading fastapi-0.115.6-py3-none-any.whl (94 kB)\n\u001B[2K   \u001B[90m━━━━━━━━━━━━━━━━━━━━━━━━━━━━━━━━━━━━━━━━\u001B[0m \u001B[32m94.8/94.8 kB\u001B[0m \u001B[31m6.1 MB/s\u001B[0m eta \u001B[36m0:00:00\u001B[0m\n\u001B[?25hDownloading python_multipart-0.0.19-py3-none-any.whl (24 kB)\nDownloading ruff-0.8.3-py3-none-manylinux_2_17_x86_64.manylinux2014_x86_64.whl (11.2 MB)\n\u001B[2K   \u001B[90m━━━━━━━━━━━━━━━━━━━━━━━━━━━━━━━━━━━━━━━━\u001B[0m \u001B[32m11.2/11.2 MB\u001B[0m \u001B[31m64.9 MB/s\u001B[0m eta \u001B[36m0:00:00\u001B[0m00:01\u001B[0m0:01\u001B[0mm\n\u001B[?25hDownloading safehttpx-0.1.6-py3-none-any.whl (8.7 kB)\nDownloading semantic_version-2.10.0-py2.py3-none-any.whl (15 kB)\nDownloading starlette-0.41.3-py3-none-any.whl (73 kB)\n\u001B[2K   \u001B[90m━━━━━━━━━━━━━━━━━━━━━━━━━━━━━━━━━━━━━━━━\u001B[0m \u001B[32m73.2/73.2 kB\u001B[0m \u001B[31m5.1 MB/s\u001B[0m eta \u001B[36m0:00:00\u001B[0m\n\u001B[?25hDownloading ffmpy-0.4.0-py3-none-any.whl (5.8 kB)\nInstalling collected packages: semantic-version, ruff, python-multipart, ffmpy, starlette, safehttpx, gradio-client, fastapi, gradio\n  Attempting uninstall: python-multipart\n    Found existing installation: python-multipart 0.0.9\n    Uninstalling python-multipart-0.0.9:\n      Successfully uninstalled python-multipart-0.0.9\n  Attempting uninstall: starlette\n    Found existing installation: starlette 0.37.2\n    Uninstalling starlette-0.37.2:\n      Successfully uninstalled starlette-0.37.2\n  Attempting uninstall: fastapi\n    Found existing installation: fastapi 0.111.0\n    Uninstalling fastapi-0.111.0:\n      Successfully uninstalled fastapi-0.111.0\nSuccessfully installed fastapi-0.115.6 ffmpy-0.4.0 gradio-5.8.0 gradio-client-1.5.1 python-multipart-0.0.19 ruff-0.8.3 safehttpx-0.1.6 semantic-version-2.10.0 starlette-0.41.3\n",
     "output_type": "stream"
    }
   ],
   "execution_count": 12
  },
  {
   "cell_type": "code",
   "source": [
    "import torch\n",
    "import torch.nn as nn\n",
    "import torch.optim as optim\n",
    "import torch.nn.functional as F\n",
    "from torch.utils.data import DataLoader, Dataset\n",
    "import numpy as np\n",
    "import os\n",
    "import re\n",
    "import cv2\n",
    "from PIL import Image\n",
    "import torchvision.transforms as transforms\n",
    "import numpy as np\n",
    "import gradio as gr\n",
    "from ultralytics import YOLO\n",
    "import contextlib\n",
    "import io\n",
    "from torchvision.utils import save_image\n",
    "import matplotlib.pyplot as plt\n",
    "import gradio as gr\n",
    "import tensorflow as tf\n",
    "\n",
    "KERAS_MODEL_PATH=\"/kaggle/input/generator/tensorflow2/default/1/generator (1).h5\"\n",
    "PYTORCH_MODEL_PATH='/kaggle/input/generator_epoch/pytorch/default/1/generator_epoch_60.pth'\n",
    "DETECTION_MODEL_PATH=\"/kaggle/input/mark_detection/pytorch/default/1/mask_detection.pt\"\n",
    "DIFFUSION_MODEL_PATH=\"/kaggle/input/unmasking-diffusion/other/default/1/unmasking_diffusion.kitties015.pth\"\n",
    "device = torch.device('cuda' if torch.cuda.is_available() else 'cpu')\n",
    "\n",
    "\n",
    "# Double Convolutional Block\n",
    "class DoubleConv(nn.Module):\n",
    "    def __init__(self, in_channels, out_channels):\n",
    "        super(DoubleConv, self).__init__()\n",
    "        self.double_conv = nn.Sequential(\n",
    "            nn.Conv2d(in_channels, out_channels, kernel_size=3, padding=1),\n",
    "            nn.BatchNorm2d(out_channels),\n",
    "            nn.ReLU(inplace=True),\n",
    "            nn.Conv2d(out_channels, out_channels, kernel_size=3, padding=1),\n",
    "            nn.BatchNorm2d(out_channels),\n",
    "            nn.ReLU(inplace=True)\n",
    "        )\n",
    "\n",
    "    def forward(self, x):\n",
    "        return self.double_conv(x)\n",
    "\n",
    "# Generator Model\n",
    "class Generator(nn.Module):\n",
    "    def __init__(self):\n",
    "        super(Generator, self).__init__()\n",
    "        # Encoder\n",
    "        self.conv_1 = DoubleConv(3, 64)  # 64x128x128\n",
    "        self.pool_1 = nn.MaxPool2d(kernel_size=2, stride=2)  # 64x64x64\n",
    "\n",
    "        self.conv_2 = DoubleConv(64, 128)  # 128x64x64\n",
    "        self.pool_2 = nn.MaxPool2d(kernel_size=2, stride=2)  # 128x32x32\n",
    "\n",
    "        self.conv_3 = DoubleConv(128, 256)  # 256x32x32\n",
    "        self.pool_3 = nn.MaxPool2d(kernel_size=2, stride=2)  # 256x16x16\n",
    "\n",
    "        self.conv_4 = DoubleConv(256, 512)  # 512x16x16\n",
    "        self.pool_4 = nn.MaxPool2d(kernel_size=2, stride=2)  # 512x8x8\n",
    "\n",
    "        self.conv_5 = DoubleConv(512, 1024)  # 1024x8x8\n",
    "\n",
    "        # Decoder\n",
    "        self.upconv_1 = nn.ConvTranspose2d(1024, 512, kernel_size=2, stride=2)  # 512x16x16\n",
    "        self.conv_6 = DoubleConv(1024, 512)  # 512x16x16\n",
    "\n",
    "        self.upconv_2 = nn.ConvTranspose2d(512, 256, kernel_size=2, stride=2)  # 256x32x32\n",
    "        self.conv_7 = DoubleConv(512, 256)  # 256x32x32\n",
    "\n",
    "        self.upconv_3 = nn.ConvTranspose2d(256, 128, kernel_size=2, stride=2)  # 128x64x64\n",
    "        self.conv_8 = DoubleConv(256, 128)  # 128x64x64\n",
    "\n",
    "        self.upconv_4 = nn.ConvTranspose2d(128, 64, kernel_size=2, stride=2)  # 64x128x128\n",
    "        self.conv_9 = DoubleConv(128, 64)  # 64x128x128\n",
    "\n",
    "        self.output = nn.Conv2d(64, 3, kernel_size=3, stride=1, padding=1)  # 3x128x128\n",
    "\n",
    "    def forward(self, batch):\n",
    "        # Encoder\n",
    "        conv_1_out = self.conv_1(batch)\n",
    "        conv_2_out = self.conv_2(self.pool_1(conv_1_out))\n",
    "        conv_3_out = self.conv_3(self.pool_2(conv_2_out))\n",
    "        conv_4_out = self.conv_4(self.pool_3(conv_3_out))\n",
    "        conv_5_out = self.conv_5(self.pool_4(conv_4_out))\n",
    "\n",
    "        # Decoder\n",
    "        conv_6_out = self.conv_6(torch.cat([self.upconv_1(conv_5_out), conv_4_out], dim=1))\n",
    "        conv_7_out = self.conv_7(torch.cat([self.upconv_2(conv_6_out), conv_3_out], dim=1))\n",
    "        conv_8_out = self.conv_8(torch.cat([self.upconv_3(conv_7_out), conv_2_out], dim=1))\n",
    "        conv_9_out = self.conv_9(torch.cat([self.upconv_4(conv_8_out), conv_1_out], dim=1))\n",
    "\n",
    "        # Output Layer\n",
    "        output = self.output(conv_9_out)\n",
    "        return torch.tanh(output)"
   ],
   "metadata": {
    "id": "qlgcmdI9ebQK",
    "trusted": true,
    "execution": {
     "iopub.status.busy": "2024-12-13T01:25:54.017630Z",
     "iopub.execute_input": "2024-12-13T01:25:54.018123Z",
     "iopub.status.idle": "2024-12-13T01:25:56.375615Z",
     "shell.execute_reply.started": "2024-12-13T01:25:54.018074Z",
     "shell.execute_reply": "2024-12-13T01:25:56.374642Z"
    }
   },
   "outputs": [],
   "execution_count": 13
  },
  {
   "cell_type": "code",
   "source": [
    "\n",
    "class MaskDataset(Dataset):\n",
    "  def __init__(self, with_mask_paths, transform=None):\n",
    "    self.with_mask_paths = with_mask_paths\n",
    "    self.transform = transform\n",
    "\n",
    "  def __len__(self):\n",
    "    return len(self.with_mask_paths)\n",
    "\n",
    "  def __getitem__(self, idx):\n",
    "    # Đọc ảnh không có khẩu trang và có khẩu trang\n",
    "    with_mask_img = Image.open(self.with_mask_paths[idx]).convert('RGB')\n",
    "\n",
    "    # Áp dụng biến đổi nếu có\n",
    "    if self.transform:\n",
    "      with_mask_img = self.transform(with_mask_img)\n",
    "\n",
    "    return with_mask_img\n",
    "\n",
    "\n",
    "def load_image(img_path):\n",
    "  # Các tham số\n",
    "  SIZE = 128  # Kích thước ảnh đầu vào\n",
    "\n",
    "  # Các phép biến đổi (resize và chuẩn hóa)\n",
    "  transform = transforms.Compose([\n",
    "    transforms.Resize((SIZE, SIZE)),  # Resize ảnh về kích thước 64x64\n",
    "    transforms.ToTensor(),  # Chuyển ảnh thành tensor\n",
    "    transforms.Normalize(mean=[0.5, 0.5, 0.5], std=[0.5, 0.5, 0.5])  # Chuẩn hóa về [-1, 1]\n",
    "  ])\n",
    "\n",
    "  # Tạo dataset và dataloader\n",
    "  img = MaskDataset([img_path], transform=transform)\n",
    "\n",
    "  # Tạo DataLoader với shuffle và chia batch\n",
    "  img_loader = DataLoader(img)\n",
    "  return img_loader\n",
    "\n"
   ],
   "metadata": {
    "id": "6rS4ESg-exxG",
    "trusted": true,
    "execution": {
     "iopub.status.busy": "2024-12-13T01:26:03.106608Z",
     "iopub.execute_input": "2024-12-13T01:26:03.107457Z",
     "iopub.status.idle": "2024-12-13T01:26:03.113802Z",
     "shell.execute_reply.started": "2024-12-13T01:26:03.107417Z",
     "shell.execute_reply": "2024-12-13T01:26:03.112908Z"
    }
   },
   "outputs": [],
   "execution_count": 14
  },
  {
   "cell_type": "code",
   "source": [
    "\n",
    "# Hàm chuyển đổi ảnh tensor sang dạng có bounding box\n",
    "def convert(image_tensor, model):\n",
    "  # Chuyển từ [-1, 1] về [0, 255] và chuyển từ tensor PyTorch sang NumPy\n",
    "  img_original = ((image_tensor.cpu().numpy().transpose(1, 2, 0) + 1) * 127.5).astype(np.uint8)\n",
    "\n",
    "  if img_original.shape[2] != 3:  # Kiểm tra số kênh của ảnh\n",
    "    raise ValueError(f\"Invalid image format: Expected 3 channels, but got {img_original.shape}\")\n",
    "\n",
    "  # Chuyển từ RGB sang BGR và resize cho YOLO\n",
    "  img_rgb_original = cv2.cvtColor(img_original, cv2.COLOR_RGB2BGR)\n",
    "  img_resized = cv2.resize(img_rgb_original, (640, 640))\n",
    "\n",
    "  # Thực hiện dự đoán với mô hình YOLO\n",
    "  with contextlib.redirect_stdout(io.StringIO()):\n",
    "    results = model(img_resized, verbose=False)\n",
    "\n",
    "  # Xử lý bounding box từ YOLO\n",
    "  if isinstance(results, list) and len(results) > 0:\n",
    "    boxes = results[0].boxes\n",
    "    for box in boxes:\n",
    "      x1, y1, x2, y2 = map(int, box.xyxy[0].cpu().numpy())\n",
    "      x1 = int(x1 * (128 / 640))\n",
    "      y1 = int(y1 * (128 / 640))\n",
    "      x2 = int(x2 * (128 / 640))\n",
    "      y2 = int(y2 * (128 / 640))\n",
    "      img_rgb_original = cv2.rectangle(img_rgb_original, (x1, y1), (x2, y2), color=(0, 0, 0), thickness=-1)\n",
    "  else:\n",
    "    raise ValueError(\"The result does not contain valid bounding boxes.\")\n",
    "\n",
    "  # Chuyển lại ảnh về định dạng RGB\n",
    "  img_rgb_display = cv2.cvtColor(img_rgb_original, cv2.COLOR_BGR2RGB)\n",
    "  return img_rgb_display\n",
    "\n",
    "\n",
    "# Hàm áp dụng mask bounding box cho một batch ảnh\n",
    "def apply_bounding_box_mask(image_batch, model):\n",
    "  processed_images = []\n",
    "  for image_tensor in image_batch:\n",
    "    masked_image = convert(image_tensor, model)\n",
    "    processed_images.append(masked_image)\n",
    "\n",
    "  # Chuyển danh sách ảnh về tensor PyTorch\n",
    "  processed_images = np.array(processed_images)\n",
    "  processed_images = torch.from_numpy(processed_images).float()\n",
    "\n",
    "  # Chuẩn hóa lại các ảnh về phạm vi [-1, 1]\n",
    "  processed_images = (processed_images / 127.5) - 1\n",
    "  return processed_images"
   ],
   "metadata": {
    "id": "CF_FIsTnelm9",
    "trusted": true,
    "execution": {
     "iopub.status.busy": "2024-12-13T01:26:07.297322Z",
     "iopub.execute_input": "2024-12-13T01:26:07.297968Z",
     "iopub.status.idle": "2024-12-13T01:26:07.307309Z",
     "shell.execute_reply.started": "2024-12-13T01:26:07.297932Z",
     "shell.execute_reply": "2024-12-13T01:26:07.306521Z"
    }
   },
   "outputs": [],
   "execution_count": 15
  },
  {
   "cell_type": "code",
   "source": [
    "import torch\n",
    "from diffusers import StableDiffusionInpaintPipeline\n",
    "from PIL import Image\n",
    "from torchvision import transforms\n",
    "import matplotlib.pyplot as plt\n",
    "from skimage.metrics import structural_similarity as compare_ssim\n",
    "import numpy as np\n",
    "import cv2\n",
    "import contextlib\n",
    "import io\n",
    "from ultralytics import YOLO\n",
    "\n",
    "\n",
    "def load_diffusion_model(model_path):\n",
    "  pipe = StableDiffusionInpaintPipeline.from_pretrained(\"stabilityai/stable-diffusion-2-inpainting\")\n",
    "\n",
    "  checkpoint = torch.load(model_path)\n",
    "  pipe.unet.load_state_dict(checkpoint['unet'])\n",
    "  pipe.vae.load_state_dict(checkpoint['vae'])\n",
    "  pipe.text_encoder.load_state_dict(checkpoint['text_encoder'])\n",
    "\n",
    "  if checkpoint.get('scheduler') is not None:\n",
    "    pipe.scheduler.load_state_dict(checkpoint['scheduler'])\n",
    "\n",
    "  pipe.to(\"cuda\")\n",
    "  return pipe\n",
    "\n",
    "\n",
    "def convert_to_mask(image_tensor, model):\n",
    "  img_original = ((image_tensor.cpu().numpy().transpose(1, 2, 0) + 1) * 127.5).astype(np.uint8)\n",
    "\n",
    "  if img_original.shape[2] != 3:\n",
    "    raise ValueError(f\"Invalid image format: Expected 3 channels, but got {img_original.shape}\")\n",
    "\n",
    "  img_rgb_original = cv2.cvtColor(img_original, cv2.COLOR_RGB2BGR)\n",
    "  img_resized = cv2.resize(img_rgb_original, (640, 640))\n",
    "\n",
    "  with contextlib.redirect_stdout(io.StringIO()):\n",
    "    results = model(img_resized, verbose=False)\n",
    "\n",
    "  mask = np.zeros((128, 128), dtype=np.uint8)\n",
    "\n",
    "  if isinstance(results, list) and len(results) > 0:\n",
    "    boxes = results[0].boxes\n",
    "\n",
    "    for box in boxes:\n",
    "      x1, y1, x2, y2 = map(int, box.xyxy[0].cpu().numpy())\n",
    "\n",
    "      x1 = int(x1 * (128 / 640))\n",
    "      y1 = int(y1 * (128 / 640))\n",
    "      x2 = int(x2 * (128 / 640))\n",
    "      y2 = int(y2 * (128 / 640))\n",
    "\n",
    "      mask[y1:y2, x1:x2] = 1\n",
    "  else:\n",
    "    raise ValueError(\"The result does not contain valid bounding boxes.\")\n",
    "\n",
    "  return mask\n",
    "\n",
    "\n",
    "def generate_diffusion_image(pipe, input_image_path, mask, prompt):\n",
    "  input_image = Image.open(input_image_path).convert(\"RGB\")\n",
    "\n",
    "  # Convert the binary mask to a PIL image\n",
    "  mask_image = Image.fromarray((mask * 255).astype(np.uint8))\n",
    "\n",
    "  # Generate output\n",
    "  result = pipe(prompt=prompt, image=input_image, mask_image=mask_image)\n",
    "\n",
    "  # Return the generated image\n",
    "  return result.images[0]\n",
    "\n",
    "\n",
    "def process_diffusion_image(model, detection_model, input_image_path, prompt=\"Restore the original image \"):\n",
    "  # Load the fine-tuned model\n",
    "\n",
    "  input_image = Image.open(input_image_path).convert(\"RGB\")\n",
    "  preprocess = transforms.Compose([\n",
    "    transforms.Resize((128, 128)),\n",
    "    transforms.ToTensor(),\n",
    "  ])\n",
    "  image_tensor = preprocess(input_image) * 2 - 1\n",
    "\n",
    "  mask = convert_to_mask(image_tensor, detection_model)\n",
    "\n",
    "  output_image = generate_diffusion_image(model, input_image_path, mask, prompt)\n",
    "\n",
    "  return output_image\n"
   ],
   "metadata": {
    "id": "fcyyDPr3uHvo",
    "trusted": true,
    "execution": {
     "iopub.status.busy": "2024-12-13T01:33:58.677328Z",
     "iopub.execute_input": "2024-12-13T01:33:58.677719Z",
     "iopub.status.idle": "2024-12-13T01:33:58.692657Z",
     "shell.execute_reply.started": "2024-12-13T01:33:58.677686Z",
     "shell.execute_reply": "2024-12-13T01:33:58.690581Z"
    }
   },
   "outputs": [],
   "execution_count": 25
  },
  {
   "cell_type": "code",
   "source": [
    "keras_generator = tf.keras.models.load_model(KERAS_MODEL_PATH)\n",
    "diffusion_generator = load_diffusion_model(DIFFUSION_MODEL_PATH)\n",
    "detection_model = YOLO(DETECTION_MODEL_PATH)"
   ],
   "metadata": {
    "colab": {
     "base_uri": "https://localhost:8080/"
    },
    "id": "_AbUvnEcbG-c",
    "outputId": "37713832-b35e-45ea-9e73-ab8e9e35141d",
    "trusted": true,
    "execution": {
     "iopub.status.busy": "2024-12-13T01:26:38.819195Z",
     "iopub.execute_input": "2024-12-13T01:26:38.819537Z",
     "iopub.status.idle": "2024-12-13T01:26:53.016766Z",
     "shell.execute_reply.started": "2024-12-13T01:26:38.819506Z",
     "shell.execute_reply": "2024-12-13T01:26:53.015984Z"
    }
   },
   "outputs": [
    {
     "output_type": "display_data",
     "data": {
      "text/plain": "Loading pipeline components...:   0%|          | 0/6 [00:00<?, ?it/s]",
      "application/vnd.jupyter.widget-view+json": {
       "version_major": 2,
       "version_minor": 0,
       "model_id": "582a746cb16549abb79301243d6b03de"
      }
     },
     "metadata": {}
    }
   ],
   "execution_count": 18
  },
  {
   "cell_type": "code",
   "source": [
    "from keras.preprocessing.image import img_to_array\n",
    "\n",
    "\n",
    "def preprocess_image_to_latent(image_path):\n",
    "  img = Image.open(image_path).convert('RGB')  # Đọc ảnh và chuyển sang RGB\n",
    "  img = img.resize((128, 128))  # Resize ảnh\n",
    "  img = np.array(img) / 127.5 - 1.0  # Chuẩn hóa về [-1, 1]\n",
    "  img = tf.convert_to_tensor(img, dtype=tf.float32)\n",
    "  img = tf.expand_dims(img, axis=0)\n",
    "  return img"
   ],
   "metadata": {
    "id": "bFeWKRCPXQeh",
    "trusted": true,
    "execution": {
     "iopub.status.busy": "2024-12-13T01:26:59.456625Z",
     "iopub.execute_input": "2024-12-13T01:26:59.457232Z",
     "iopub.status.idle": "2024-12-13T01:26:59.463159Z",
     "shell.execute_reply.started": "2024-12-13T01:26:59.457194Z",
     "shell.execute_reply": "2024-12-13T01:26:59.462236Z"
    }
   },
   "outputs": [],
   "execution_count": 19
  },
  {
   "cell_type": "code",
   "source": [
    "# Load models\n",
    "def load_models():\n",
    "    \"\"\"\n",
    "    Load PyTorch and Keras generator models along with the YOLO model.\n",
    "\n",
    "    Returns:\n",
    "        dict: A dictionary containing the loaded models.\n",
    "    \"\"\"\n",
    "    # Load PyTorch generator model\n",
    "    pytorch_generator = Generator()\n",
    "    pytorch_generator.load_state_dict(torch.load(PYTORCH_MODEL_PATH, map_location=device))\n",
    "    pytorch_generator.to(device)\n",
    "    pytorch_generator.eval()\n",
    "\n",
    "\n",
    "    return {\n",
    "        \"PyTorch Generator\": pytorch_generator,\n",
    "        \"Diffusion Generator\": diffusion_generator,\n",
    "        \"Keras Generator\": keras_generator,\n",
    "        \"YOLO\": detection_model\n",
    "    }\n",
    "\n",
    "# Display and process images\n",
    "def display_images(generator, model_yolo, img_loader, save_folder):\n",
    "    \"\"\"\n",
    "    Process images and return a PIL format image.\n",
    "    \"\"\"\n",
    "    with_mask_batch = next(iter(img_loader))\n",
    "    with_mask_batch = with_mask_batch.to(device)  # Đảm bảo ảnh được chuyển sang GPU nếu có\n",
    "    plt.figure(figsize=(15, 30))  # Tăng kích thước hiển thị (rộng x cao)\n",
    "\n",
    "    os.makedirs(save_folder, exist_ok=True)  # Tạo thư mục nếu chưa tồn tại\n",
    "\n",
    "    idx = 0  # Chỉ số của ảnh trong batch\n",
    "\n",
    "    # 1. Hiển thị ảnh gốc từ dataloader (ảnh có khẩu trang)\n",
    "    img_original = with_mask_batch[idx].cpu()  # Chuyển về CPU\n",
    "    img_original = img_original * 0.5 + 0.5  # Bỏ chuẩn hóa, đưa ảnh về [0, 1]\n",
    "    img_original = img_original.permute(1, 2, 0).numpy()  # Chuyển từ (C, H, W) -> (H, W, C)\n",
    "\n",
    "    # 2. Áp dụng bounding box mask lên ảnh có khẩu trang\n",
    "    images_with_mask = apply_bounding_box_mask(with_mask_batch, model_yolo)\n",
    "    img_with_mask = images_with_mask[idx].cpu()  # Chuyển về CPU\n",
    "    img_with_mask = img_with_mask * 0.5 + 0.5  # Bỏ chuẩn hóa\n",
    "    img_with_mask = img_with_mask.numpy()  # Chuyển từ (C, H, W) -> (H, W, C)\n",
    "\n",
    "    # 3. Truyền ảnh qua generator để sinh ảnh mới\n",
    "    images_with_mask = images_with_mask.to(device)\n",
    "    generated_images = generator(images_with_mask.permute(0, 3, 1, 2))  # (B, H, W, C) -> (B, C, H, W)\n",
    "    generated_image = generated_images[idx].cpu().detach()  # Chuyển về CPU\n",
    "    generated_image = generated_image * 0.5 + 0.5  # Bỏ chuẩn hóa, đưa ảnh về [0, 1]\n",
    "\n",
    "    # Hiển thị ảnh được sinh\n",
    "    generated_img = generated_image.permute(1, 2, 0).cpu().detach().numpy()  # (C, H, W) -> (H, W, C)\n",
    "\n",
    "# Log the shape and dtype for debugging\n",
    "    print(f\"Shape of generated_img: {generated_img.shape}, dtype: {generated_img.dtype}\")\n",
    "\n",
    "# Fix shape if necessary\n",
    "    generated_img = np.squeeze(generated_img)  # Remove single dimensions if present\n",
    "\n",
    "# Fix data type if necessary\n",
    "    if generated_img.dtype != np.uint8:\n",
    "      generated_img = (generated_img * 255).astype(np.uint8)  # Convert to uint8\n",
    "\n",
    "# Convert to PIL image\n",
    "    generated_image_pil = Image.fromarray(generated_img)\n",
    "\n",
    "# Save or display the PIL image\n",
    "    generated_image_pil.save(\"generated_image.png\")\n",
    "\n",
    "\n",
    "    return generated_image_pil  # Return the PIL image"
   ],
   "metadata": {
    "id": "SrA7IkGeSqWd",
    "trusted": true,
    "execution": {
     "iopub.status.busy": "2024-12-13T01:27:02.515245Z",
     "iopub.execute_input": "2024-12-13T01:27:02.515587Z",
     "iopub.status.idle": "2024-12-13T01:27:02.525335Z",
     "shell.execute_reply.started": "2024-12-13T01:27:02.515556Z",
     "shell.execute_reply": "2024-12-13T01:27:02.524320Z"
    }
   },
   "outputs": [],
   "execution_count": 20
  },
  {
   "cell_type": "code",
   "source": [
    "\n",
    "# Process image with selected model\n",
    "def process_image(image, model_name):\n",
    "  \"\"\"\n",
    "  Process an image using a selected model.\n",
    "  \"\"\"\n",
    "  temp_path = \"temp_uploaded_image.png\"\n",
    "  image.save(temp_path)\n",
    "\n",
    "  models = load_models()\n",
    "  selected_model = models[model_name]\n",
    "  yolo_model = models[\"YOLO\"]\n",
    "\n",
    "  # Load image for PyTorch\n",
    "  img_loader = load_image(temp_path)\n",
    "\n",
    "  save_folder = \"result\"\n",
    "  os.makedirs(save_folder, exist_ok=True)\n",
    "\n",
    "  if model_name == \"PyTorch Generator\":\n",
    "    return display_images(selected_model, yolo_model, img_loader, save_folder)\n",
    "  if model_name == \"Diffusion Generator\":\n",
    "    return process_diffusion_image(selected_model, detection_model, temp_path)\n",
    "  elif model_name == \"Keras Generator\":\n",
    "\n",
    "    latent_vector = preprocess_image_to_latent(temp_path)\n",
    "    generated_image = keras_generator(latent_vector)\n",
    "    generated_image = generated_image[0].numpy()\n",
    "    generated_image = (generated_image + 1) / 2\n",
    "    image_pil = Image.fromarray((generated_image * 255).astype(np.uint8))\n",
    "    return image_pil\n",
    "  else:\n",
    "    raise ValueError(\"Invalid model name\")\n"
   ],
   "metadata": {
    "id": "0qAH8jBuSLVg",
    "trusted": true,
    "execution": {
     "iopub.status.busy": "2024-12-13T01:34:06.777242Z",
     "iopub.execute_input": "2024-12-13T01:34:06.777593Z",
     "iopub.status.idle": "2024-12-13T01:34:06.784134Z",
     "shell.execute_reply.started": "2024-12-13T01:34:06.777561Z",
     "shell.execute_reply": "2024-12-13T01:34:06.783153Z"
    }
   },
   "outputs": [],
   "execution_count": 26
  },
  {
   "cell_type": "code",
   "source": [
    "def create_gradio_interface():\n",
    "    \"\"\"\n",
    "    Create a Gradio interface for the generator models.\n",
    "    \"\"\"\n",
    "    description = \"Upload an image to process it using a selected generator model and YOLO.\"\n",
    "    interface = gr.Interface(\n",
    "        fn=process_image,  # Processing function\n",
    "        inputs=[\n",
    "            gr.Image(type=\"pil\", label=\"Upload Image\"),  # Input image\n",
    "            gr.Dropdown(\n",
    "                [\"PyTorch Generator\", \"Keras Generator\", \"Diffusion Generator\"],\n",
    "                label=\"Select Model\"\n",
    "            ),  # Model selection\n",
    "        ],\n",
    "        outputs=gr.Image(type=\"pil\", label=\"Generated Image\"),  # Output image\n",
    "        title=\"Image Generator Interface\",\n",
    "        description=description,\n",
    "    )\n",
    "    return interface\n",
    "\n",
    "\n",
    "# Launch Gradio in Jupyter\n",
    "interface = create_gradio_interface()\n",
    "interface.launch(share=True, inline=True,debug=True)"
   ],
   "metadata": {
    "colab": {
     "base_uri": "https://localhost:8080/",
     "height": 669
    },
    "id": "0OmOurfEOE1V",
    "outputId": "f29b4fb9-d6f4-4270-96c3-a1e061884d2a",
    "trusted": true,
    "execution": {
     "iopub.status.busy": "2024-12-13T01:34:11.396595Z",
     "iopub.execute_input": "2024-12-13T01:34:11.397688Z"
    }
   },
   "outputs": [
    {
     "name": "stdout",
     "text": "* Running on local URL:  http://127.0.0.1:7860\n* Running on public URL: https://5d74f096edf2d71e7a.gradio.live\n\nThis share link expires in 72 hours. For free permanent hosting and GPU upgrades, run `gradio deploy` from the terminal in the working directory to deploy to Hugging Face Spaces (https://huggingface.co/spaces)\n",
     "output_type": "stream"
    },
    {
     "output_type": "display_data",
     "data": {
      "text/plain": "<IPython.core.display.HTML object>",
      "text/html": "<div><iframe src=\"https://5d74f096edf2d71e7a.gradio.live\" width=\"100%\" height=\"500\" allow=\"autoplay; camera; microphone; clipboard-read; clipboard-write;\" frameborder=\"0\" allowfullscreen></iframe></div>"
     },
     "metadata": {}
    },
    {
     "output_type": "display_data",
     "data": {
      "text/plain": "  0%|          | 0/50 [00:00<?, ?it/s]",
      "application/vnd.jupyter.widget-view+json": {
       "version_major": 2,
       "version_minor": 0,
       "model_id": "4993d420075d471ea88efa98e7233787"
      }
     },
     "metadata": {}
    },
    {
     "output_type": "display_data",
     "data": {
      "text/plain": "  0%|          | 0/50 [00:00<?, ?it/s]",
      "application/vnd.jupyter.widget-view+json": {
       "version_major": 2,
       "version_minor": 0,
       "model_id": "ededa9fffd3544dcaf0871cc75b847e3"
      }
     },
     "metadata": {}
    },
    {
     "output_type": "display_data",
     "data": {
      "text/plain": "  0%|          | 0/50 [00:00<?, ?it/s]",
      "application/vnd.jupyter.widget-view+json": {
       "version_major": 2,
       "version_minor": 0,
       "model_id": "d5f9152a3c8948c0a7c3db2a236c870d"
      }
     },
     "metadata": {}
    },
    {
     "name": "stdout",
     "text": "Shape of generated_img: (128, 128, 3), dtype: float32\n",
     "output_type": "stream"
    },
    {
     "output_type": "display_data",
     "data": {
      "text/plain": "  0%|          | 0/50 [00:00<?, ?it/s]",
      "application/vnd.jupyter.widget-view+json": {
       "version_major": 2,
       "version_minor": 0,
       "model_id": "3a011b3ff8a8422587a4b246443a4e02"
      }
     },
     "metadata": {}
    },
    {
     "output_type": "display_data",
     "data": {
      "text/plain": "  0%|          | 0/50 [00:00<?, ?it/s]",
      "application/vnd.jupyter.widget-view+json": {
       "version_major": 2,
       "version_minor": 0,
       "model_id": "5cea9fd6f20141e8988783c304f981a3"
      }
     },
     "metadata": {}
    },
    {
     "output_type": "display_data",
     "data": {
      "text/plain": "  0%|          | 0/50 [00:00<?, ?it/s]",
      "application/vnd.jupyter.widget-view+json": {
       "version_major": 2,
       "version_minor": 0,
       "model_id": "d1b4b4d4304a45a78d261d2fa26be3e3"
      }
     },
     "metadata": {}
    }
   ],
   "execution_count": null
  }
 ]
}
